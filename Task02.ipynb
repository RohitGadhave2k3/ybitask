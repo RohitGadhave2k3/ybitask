{
 "cells": [
  {
   "cell_type": "code",
   "execution_count": 11,
   "id": "281a6190",
   "metadata": {},
   "outputs": [],
   "source": [
    "#Steps:\n",
    "import pandas as pd\n",
    "from sklearn.impute import SimpleImputer\n",
    "from sklearn.preprocessing import LabelEncoder, OneHotEncoder"
   ]
  },
  {
   "cell_type": "code",
   "execution_count": 8,
   "id": "5c042644",
   "metadata": {},
   "outputs": [],
   "source": [
    "df=pd.read_csv('Dataset .csv')"
   ]
  },
  {
   "cell_type": "code",
   "execution_count": 9,
   "id": "2dc90ba1",
   "metadata": {},
   "outputs": [
    {
     "name": "stdout",
     "output_type": "stream",
     "text": [
      "Original Dataset:\n",
      "<class 'pandas.core.frame.DataFrame'>\n",
      "RangeIndex: 9551 entries, 0 to 9550\n",
      "Data columns (total 21 columns):\n",
      " #   Column                Non-Null Count  Dtype  \n",
      "---  ------                --------------  -----  \n",
      " 0   Restaurant ID         9551 non-null   int64  \n",
      " 1   Restaurant Name       9551 non-null   object \n",
      " 2   Country Code          9551 non-null   int64  \n",
      " 3   City                  9551 non-null   object \n",
      " 4   Address               9551 non-null   object \n",
      " 5   Locality              9551 non-null   object \n",
      " 6   Locality Verbose      9551 non-null   object \n",
      " 7   Longitude             9551 non-null   float64\n",
      " 8   Latitude              9551 non-null   float64\n",
      " 9   Cuisines              9542 non-null   object \n",
      " 10  Average Cost for two  9551 non-null   int64  \n",
      " 11  Currency              9551 non-null   object \n",
      " 12  Has Table booking     9551 non-null   object \n",
      " 13  Has Online delivery   9551 non-null   object \n",
      " 14  Is delivering now     9551 non-null   object \n",
      " 15  Switch to order menu  9551 non-null   object \n",
      " 16  Price range           9551 non-null   int64  \n",
      " 17  Aggregate rating      9551 non-null   float64\n",
      " 18  Rating color          9551 non-null   object \n",
      " 19  Rating text           9551 non-null   object \n",
      " 20  Votes                 9551 non-null   int64  \n",
      "dtypes: float64(3), int64(5), object(13)\n",
      "memory usage: 1.5+ MB\n",
      "None\n"
     ]
    }
   ],
   "source": [
    "# Display basic information about the dataset\n",
    "print(\"Original Dataset:\")\n",
    "print(df.info())"
   ]
  },
  {
   "cell_type": "code",
   "execution_count": 13,
   "id": "eb1f2c59",
   "metadata": {},
   "outputs": [],
   "source": [
    "# Handling Missing Values\n",
    "# Identify categorical columns\n",
    "categorical_cols = df.select_dtypes(include='object').columns"
   ]
  },
  {
   "cell_type": "code",
   "execution_count": 14,
   "id": "6952b496",
   "metadata": {},
   "outputs": [],
   "source": [
    "# Create separate imputers for numerical and categorical columns\n",
    "numeric_imputer = SimpleImputer(strategy='mean')\n",
    "categorical_imputer = SimpleImputer(strategy='most_frequent')"
   ]
  },
  {
   "cell_type": "code",
   "execution_count": 15,
   "id": "0d938cc6",
   "metadata": {},
   "outputs": [],
   "source": [
    "# Apply imputers to respective columns\n",
    "df_numeric = pd.DataFrame(numeric_imputer.fit_transform(df.select_dtypes(include='number')), columns=df.select_dtypes(include='number').columns)\n",
    "df_categorical = pd.DataFrame(categorical_imputer.fit_transform(df[categorical_cols]), columns=categorical_cols)"
   ]
  },
  {
   "cell_type": "code",
   "execution_count": 16,
   "id": "b085b125",
   "metadata": {},
   "outputs": [],
   "source": [
    "# Combine the numeric and categorical dataframes\n",
    "df_filled = pd.concat([df_numeric, df_categorical], axis=1)"
   ]
  },
  {
   "cell_type": "code",
   "execution_count": 17,
   "id": "0143a8e8",
   "metadata": {},
   "outputs": [
    {
     "name": "stdout",
     "output_type": "stream",
     "text": [
      "\n",
      "Dataset after handling missing values:\n",
      "<class 'pandas.core.frame.DataFrame'>\n",
      "RangeIndex: 9551 entries, 0 to 9550\n",
      "Data columns (total 21 columns):\n",
      " #   Column                Non-Null Count  Dtype  \n",
      "---  ------                --------------  -----  \n",
      " 0   Restaurant ID         9551 non-null   float64\n",
      " 1   Country Code          9551 non-null   float64\n",
      " 2   Longitude             9551 non-null   float64\n",
      " 3   Latitude              9551 non-null   float64\n",
      " 4   Average Cost for two  9551 non-null   float64\n",
      " 5   Price range           9551 non-null   float64\n",
      " 6   Aggregate rating      9551 non-null   float64\n",
      " 7   Votes                 9551 non-null   float64\n",
      " 8   Restaurant Name       9551 non-null   object \n",
      " 9   City                  9551 non-null   object \n",
      " 10  Address               9551 non-null   object \n",
      " 11  Locality              9551 non-null   object \n",
      " 12  Locality Verbose      9551 non-null   object \n",
      " 13  Cuisines              9551 non-null   object \n",
      " 14  Currency              9551 non-null   object \n",
      " 15  Has Table booking     9551 non-null   object \n",
      " 16  Has Online delivery   9551 non-null   object \n",
      " 17  Is delivering now     9551 non-null   object \n",
      " 18  Switch to order menu  9551 non-null   object \n",
      " 19  Rating color          9551 non-null   object \n",
      " 20  Rating text           9551 non-null   object \n",
      "dtypes: float64(8), object(13)\n",
      "memory usage: 1.5+ MB\n",
      "None\n"
     ]
    }
   ],
   "source": [
    "# Display information after handling missing values\n",
    "print(\"\\nDataset after handling missing values:\")\n",
    "print(df_filled.info())"
   ]
  },
  {
   "cell_type": "code",
   "execution_count": 18,
   "id": "61217263",
   "metadata": {},
   "outputs": [],
   "source": [
    "# Encoding Categorical Variables\n",
    "# Assuming that categorical variables are identified by data type 'object'\n",
    "label_encoder = LabelEncoder()\n",
    "df_filled[categorical_cols] = df_filled[categorical_cols].apply(label_encoder.fit_transform)\n"
   ]
  },
  {
   "cell_type": "code",
   "execution_count": 19,
   "id": "aac200d3",
   "metadata": {},
   "outputs": [
    {
     "name": "stdout",
     "output_type": "stream",
     "text": [
      "\n",
      "Dataset after encoding categorical variables:\n",
      "<class 'pandas.core.frame.DataFrame'>\n",
      "RangeIndex: 9551 entries, 0 to 9550\n",
      "Data columns (total 21 columns):\n",
      " #   Column                Non-Null Count  Dtype  \n",
      "---  ------                --------------  -----  \n",
      " 0   Restaurant ID         9551 non-null   float64\n",
      " 1   Country Code          9551 non-null   float64\n",
      " 2   Longitude             9551 non-null   float64\n",
      " 3   Latitude              9551 non-null   float64\n",
      " 4   Average Cost for two  9551 non-null   float64\n",
      " 5   Price range           9551 non-null   float64\n",
      " 6   Aggregate rating      9551 non-null   float64\n",
      " 7   Votes                 9551 non-null   float64\n",
      " 8   Restaurant Name       9551 non-null   int32  \n",
      " 9   City                  9551 non-null   int32  \n",
      " 10  Address               9551 non-null   int32  \n",
      " 11  Locality              9551 non-null   int32  \n",
      " 12  Locality Verbose      9551 non-null   int32  \n",
      " 13  Cuisines              9551 non-null   int32  \n",
      " 14  Currency              9551 non-null   int32  \n",
      " 15  Has Table booking     9551 non-null   int32  \n",
      " 16  Has Online delivery   9551 non-null   int32  \n",
      " 17  Is delivering now     9551 non-null   int32  \n",
      " 18  Switch to order menu  9551 non-null   int32  \n",
      " 19  Rating color          9551 non-null   int32  \n",
      " 20  Rating text           9551 non-null   int32  \n",
      "dtypes: float64(8), int32(13)\n",
      "memory usage: 1.1 MB\n",
      "None\n"
     ]
    }
   ],
   "source": [
    "# Display information after encoding categorical variables\n",
    "print(\"\\nDataset after encoding categorical variables:\")\n",
    "print(df_filled.info())"
   ]
  },
  {
   "cell_type": "code",
   "execution_count": 20,
   "id": "4ba4d3df",
   "metadata": {},
   "outputs": [
    {
     "name": "stdout",
     "output_type": "stream",
     "text": [
      "\n",
      "Preprocessed dataset saved as 'preprocessed_dataset.csv'\n"
     ]
    }
   ],
   "source": [
    "# Save the preprocessed dataset\n",
    "df_filled.to_csv('preprocessed_dataset.csv', index=False)\n",
    "print(\"\\nPreprocessed dataset saved as 'preprocessed_dataset.csv'\")"
   ]
  },
  {
   "cell_type": "code",
   "execution_count": 21,
   "id": "6ee58da2",
   "metadata": {},
   "outputs": [],
   "source": [
    "# Step 2: Determine criteria for restaurant recommendations\n",
    "# Example criteria: cuisine preference and price range\n",
    "user_preferences = {'Cuisines': 'Italian', 'Price range': 2.0}  # Adjust based on your dataset\n"
   ]
  },
  {
   "cell_type": "code",
   "execution_count": 22,
   "id": "ea0e6a49",
   "metadata": {},
   "outputs": [],
   "source": [
    "# Step 3: Implement content-based filtering\n",
    "# Combine relevant columns into a single text column for TF-IDF vectorization\n",
    "df['combined_features'] = df['Cuisines'].astype(str) + ' ' + df['Price range'].astype(str)"
   ]
  },
  {
   "cell_type": "code",
   "execution_count": 23,
   "id": "129b7274",
   "metadata": {},
   "outputs": [],
   "source": [
    "# TF-IDF Vectorization\n",
    "tfidf_vectorizer = TfidfVectorizer(stop_words='english')\n",
    "tfidf_matrix = tfidf_vectorizer.fit_transform(df['combined_features'])"
   ]
  },
  {
   "cell_type": "code",
   "execution_count": 24,
   "id": "9a53e26e",
   "metadata": {},
   "outputs": [],
   "source": [
    "# Compute cosine similarity\n",
    "cosine_sim = linear_kernel(tfidf_matrix, tfidf_matrix)"
   ]
  },
  {
   "cell_type": "code",
   "execution_count": 26,
   "id": "a61de143",
   "metadata": {},
   "outputs": [
    {
     "name": "stdout",
     "output_type": "stream",
     "text": [
      "\n",
      "User Preferences: {'Cuisines': 'Italian', 'Price range': 2.0}\n",
      "Recommended Restaurants:\n",
      "1. Gero\n",
      "2. D.O.C Ristorante\n",
      "3. Terra�_o It��lia\n",
      "4. La Dolce Vita Ristorante\n",
      "5. Tony's Italian Restaurant & Pizza\n"
     ]
    }
   ],
   "source": [
    "# Get restaurant recommendations based on user preferences\n",
    "indices = df[df['Cuisines'] == user_preferences['Cuisines']].index\n",
    "indices = indices[indices.isin(df[df['Price range'] == user_preferences['Price range']].index)]\n",
    "similarity_scores = list(enumerate(cosine_sim[indices[0]]))\n",
    "similarity_scores = sorted(similarity_scores, key=lambda x: x[1], reverse=True)[1:6]  # Top 5 recommendations\n",
    "\n",
    "recommended_restaurants = [df['Restaurant Name'][i[0]] for i in similarity_scores]\n",
    "\n",
    "# Display recommended restaurants\n",
    "print(f\"\\nUser Preferences: {user_preferences}\")\n",
    "print(\"Recommended Restaurants:\")\n",
    "for i, restaurant in enumerate(recommended_restaurants, 1):\n",
    "    print(f\"{i}. {restaurant}\")"
   ]
  },
  {
   "cell_type": "code",
   "execution_count": null,
   "id": "d61cd478",
   "metadata": {},
   "outputs": [],
   "source": []
  }
 ],
 "metadata": {
  "kernelspec": {
   "display_name": "Python 3 (ipykernel)",
   "language": "python",
   "name": "python3"
  },
  "language_info": {
   "codemirror_mode": {
    "name": "ipython",
    "version": 3
   },
   "file_extension": ".py",
   "mimetype": "text/x-python",
   "name": "python",
   "nbconvert_exporter": "python",
   "pygments_lexer": "ipython3",
   "version": "3.11.3"
  }
 },
 "nbformat": 4,
 "nbformat_minor": 5
}
